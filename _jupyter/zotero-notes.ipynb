{
 "cells": [
  {
   "cell_type": "markdown",
   "metadata": {},
   "source": [
    "When reviewing the literature, it's nice to have the notes linked to Zotero references, but it would also be great to compare them more systematically. The idea is to keep our notes in Zotero (which is nice because everyone sharing a library can access or edit them) and create a data file to explore notes (e.g., text analysis).\n",
    "\n",
    "- This small package extracts notes from a collection and creates a CSV file that can be easily read using Excel.\n",
    "- You only need to specify the collection id: https://www.zotero.org/groups/2406179/csic-echo/collections/M8N2VMAP = `M8N2VMAP` and corresponding credentials.\n",
    "- The headers of notes have to start with #. Text between headings cannot include #. For instance: \n",
    "\n",
    "```markdown\n",
    "# Research question\n",
    "\n",
    "Estimates interaction effects between PGS of obesity and cohorts using HRS.\n",
    "\n",
    "# Data\n",
    "\n",
    "HRS\n",
    "\n",
    "# Methods\n",
    "\n",
    "Uses a HLM whereby they estimate effects of age and cohorts while making the intercepts and slopes a function of individual factors.\n",
    "\n",
    "# Conclusions\n",
    "\n",
    "# The good\n",
    "\n",
    "# Limitations\n",
    "\n",
    "Pays little attention to selection due to survival.\n",
    "```\n",
    "\n",
    "## Installation\n",
    "\n",
    "```\n",
    "pip install git+https://github.com/sdaza/zotnote.git\n",
    "```\n",
    "\n",
    "## Credentials\n",
    "\n",
    "You can save the credentials in a `config.py` and load them using `import config`: \n",
    "\n",
    "```yaml\n",
    "library_id = \"0000000\"\n",
    "api_key = \"key\"\n",
    "library_type = \"group\"\n",
    "```\n"
   ]
  },
  {
   "cell_type": "code",
   "execution_count": 3,
   "metadata": {
    "tags": []
   },
   "outputs": [],
   "source": [
    "import pandas as pd\n",
    "import config\n",
    "import zotnote as zn"
   ]
  },
  {
   "cell_type": "code",
   "execution_count": 2,
   "metadata": {},
   "outputs": [],
   "source": [
    "zn.exportNotes(collection = \"M8N2VMAP\", \n",
    "    library_id = config.library_id, api_key = config.api_key)"
   ]
  },
  {
   "cell_type": "code",
   "execution_count": 4,
   "metadata": {},
   "outputs": [
    {
     "data": {
      "text/html": [
       "<div>\n",
       "<style scoped>\n",
       "    .dataframe tbody tr th:only-of-type {\n",
       "        vertical-align: middle;\n",
       "    }\n",
       "\n",
       "    .dataframe tbody tr th {\n",
       "        vertical-align: top;\n",
       "    }\n",
       "\n",
       "    .dataframe thead th {\n",
       "        text-align: right;\n",
       "    }\n",
       "</style>\n",
       "<table border=\"1\" class=\"dataframe\">\n",
       "  <thead>\n",
       "    <tr style=\"text-align: right;\">\n",
       "      <th></th>\n",
       "      <th>id</th>\n",
       "      <th>citation</th>\n",
       "      <th>tags</th>\n",
       "      <th>title</th>\n",
       "      <th>research_question</th>\n",
       "      <th>data</th>\n",
       "      <th>methods</th>\n",
       "      <th>conclusions</th>\n",
       "      <th>the_good</th>\n",
       "      <th>limitations</th>\n",
       "    </tr>\n",
       "  </thead>\n",
       "  <tbody>\n",
       "    <tr>\n",
       "      <th>0</th>\n",
       "      <td>RGDC9R9R</td>\n",
       "      <td>Abadi et al. 2017</td>\n",
       "      <td>Must read</td>\n",
       "      <td>Penetrance of Polygenic Obesity Susceptibility...</td>\n",
       "      <td>Are the effects of obesity-susceptibility loci...</td>\n",
       "      <td>37 BMI-associated SNPs in 75,230 adults of Eur...</td>\n",
       "      <td>Quantile regression and meta-regression across...</td>\n",
       "      <td>The effects of nine SNPs increased significant...</td>\n",
       "      <td>NaN</td>\n",
       "      <td>NaN</td>\n",
       "    </tr>\n",
       "    <tr>\n",
       "      <th>1</th>\n",
       "      <td>U4MNK7QT</td>\n",
       "      <td>Walter et al. 2016</td>\n",
       "      <td>BMI, Polygenic scores</td>\n",
       "      <td>Association of a Genetic Risk Score With Body ...</td>\n",
       "      <td>Estimates interaction effects between PGS of o...</td>\n",
       "      <td>HRS</td>\n",
       "      <td>Uses a HLM whereby they estimate effects of ag...</td>\n",
       "      <td>NaN</td>\n",
       "      <td>NaN</td>\n",
       "      <td>Pays little attention to selection due to surv...</td>\n",
       "    </tr>\n",
       "  </tbody>\n",
       "</table>\n",
       "</div>"
      ],
      "text/plain": [
       "         id            citation                   tags  \\\n",
       "0  RGDC9R9R   Abadi et al. 2017              Must read   \n",
       "1  U4MNK7QT  Walter et al. 2016  BMI, Polygenic scores   \n",
       "\n",
       "                                               title  \\\n",
       "0  Penetrance of Polygenic Obesity Susceptibility...   \n",
       "1  Association of a Genetic Risk Score With Body ...   \n",
       "\n",
       "                                   research_question  \\\n",
       "0  Are the effects of obesity-susceptibility loci...   \n",
       "1  Estimates interaction effects between PGS of o...   \n",
       "\n",
       "                                                data  \\\n",
       "0  37 BMI-associated SNPs in 75,230 adults of Eur...   \n",
       "1                                                HRS   \n",
       "\n",
       "                                             methods  \\\n",
       "0  Quantile regression and meta-regression across...   \n",
       "1  Uses a HLM whereby they estimate effects of ag...   \n",
       "\n",
       "                                         conclusions  the_good  \\\n",
       "0  The effects of nine SNPs increased significant...       NaN   \n",
       "1                                                NaN       NaN   \n",
       "\n",
       "                                         limitations  \n",
       "0                                                NaN  \n",
       "1  Pays little attention to selection due to surv...  "
      ]
     },
     "execution_count": 4,
     "metadata": {},
     "output_type": "execute_result"
    }
   ],
   "source": [
    "pd.read_csv(\"notes.csv\")"
   ]
  }
 ],
 "metadata": {
  "interpreter": {
   "hash": "4cd7ab41f5fca4b9b44701077e38c5ffd31fe66a6cab21e0214b68d958d0e462"
  },
  "kernelspec": {
   "display_name": "Python 3.9.2 64-bit",
   "name": "python3"
  },
  "language_info": {
   "name": "python",
   "version": ""
  }
 },
 "nbformat": 4,
 "nbformat_minor": 4
}