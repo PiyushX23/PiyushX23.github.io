{
 "cells": [
  {
   "cell_type": "code",
   "execution_count": 1,
   "metadata": {
    "collapsed": true,
    "slideshow": {
     "slide_type": "skip"
    }
   },
   "outputs": [],
   "source": [
    "# Add all necessary imports here\n",
    "import matplotlib.pyplot as plt\n",
    "%matplotlib inline\n",
    "plt.style.reload_library()\n",
    "plt.style.use(\"ggplot\")"
   ]
  },
  {
   "cell_type": "markdown",
   "metadata": {
    "slideshow": {
     "slide_type": "skip"
    }
   },
   "source": [
    "### Cover Slide 1"
   ]
  },
  {
   "cell_type": "raw",
   "metadata": {
    "slideshow": {
     "slide_type": "slide"
    }
   },
   "source": [
    "<image>\n",
    "<section data-background=\"img/incarceration.jpeg\" data-state=\"img-transparent no-title-footer\">\n",
    "<div class=\"intro-body\">\n",
    "<div class=\"intro_h1\"><h1>Incarceration and Mortality</h1</div>\n",
    "<h3>Sebastian Daza</h3>\n",
    "<p>&nbsp;</p>\n",
    "<p>&nbsp;</p>\n",
    "</div>\n",
    "</section>\n",
    "</image>"
   ]
  },
  {
   "cell_type": "markdown",
   "metadata": {
    "slideshow": {
     "slide_type": "skip"
    }
   },
   "source": [
    "### Cover Slide 2"
   ]
  },
  {
   "cell_type": "raw",
   "metadata": {
    "slideshow": {
     "slide_type": "skip"
    }
   },
   "source": [
    "<image>\n",
    "<section data-background=\"img/incarceration.jpeg\" data-state=\"img-transparent no-title-footer\">\n",
    "<div class=\"intro-body\">\n",
    "<div class=\"intro_h1\"><h1>Incarceration and Mortality</h1</div>\n",
    "<h3>Sebastian Daza</h3>\n",
    "<p>&nbsp;</p>\n",
    "<p>&nbsp;</p>\n",
    "</div>\n",
    "</section>\n",
    "</image>"
   ]
  },
  {
   "cell_type": "markdown",
   "metadata": {
    "slideshow": {
     "slide_type": "skip"
    }
   },
   "source": [
    "# Job description \n",
    "\n",
    "To succeed we need to understand the unique character of each of the world’s communities, what Facebook means or could mean to them, and how best to make our technology work for them. We’re looking for people with strong quantitative research skills to help in this effort. \n",
    "\n",
    "The ideal candidate will be a social scientist with expertise in quantitative research methodologies or a quantitative specialist with experience solving social problems. They’ll be comfortable improvising and have the ability to work cross-functionally and thrive in a fast-paced organization. All product groups across Facebook are hiring including Instagram.\n",
    "\n",
    "### Responsibilities\n",
    "\n",
    "- Help shape the research agenda and drive research projects from end-to-end\n",
    "- Collaborate with product teams to define relevant questions about user growth and engagement\n",
    "- Deploy appropriate quantitative methodologies to answer those questions\n",
    "- Develop novel approaches where traditional methods won’t do\n",
    "- Collaborate with qualitative researchers as needed and iterate quickly to generate usable insights for product and business decisions\n",
    "- Deliver insights and recommendations clearly to relevant audiences\n",
    "\n",
    "### Minimum Qualifications\n",
    "\n",
    "- Ability to communicate analyses and results to any audience\n",
    "- Master’s or Ph.D. in the social sciences (e.g., Psychology, Communication, Sociology, Political Science, Economics), or in a quantitative field (e.g., Statistics, Informatics, Econometrics) with experience answering social questions\n",
    "- Knowledge in data manipulation and analysis (R/SAS/Stata, SQL/Hive)\n",
    "- Knowledge in quantitative research methodologies (e.g., survey sampling and design, significance testing, regression modeling, experimental design, behavioral data analysis)\n",
    "\n",
    "### Preferred Qualifications\n",
    "\n",
    "- Experience with Unix, Python, and large datasets (> 1TB)"
   ]
  },
  {
   "cell_type": "markdown",
   "metadata": {
    "slideshow": {
     "slide_type": "skip"
    }
   },
   "source": [
    "# Presentation Guidelines \n",
    "\n",
    "- Conversational \n",
    "- Tell the “story” of 1 impactful research project\n",
    "- Tell us your role on the project, your research plan, implementation of the method, findings, and what happened as a result of the research\n",
    "- You can also discuss any constraints, stakeholders, teammates, roadblocks that occurred, etc.\n",
    "- Your project should demonstrate how your research had an impact on the product or the subject at hand. \n",
    "- Dedicate ~10 minutes addressing how you would change your research design if you had the opportunity to do it again – this time with unlimited resources\n",
    "- Please describe how your research could be applied to make real-world changes, and describe what your recommendations for those changes would be. \n",
    "\n",
    "\n",
    "## More details\n",
    "\n",
    "- Include 1 project that you are most proud of and that you consider relevant to the work done at the company. Provide adequate detail about your role, the team, project duration, etc. Within the details you share, consider highlighting the following areas:\n",
    "- How the project influenced your company or the industry\n",
    "- Your approach and contribution to the team\n",
    "- How you helped enable success for your team\n",
    "- We suggest you tell the “story” of the project. Think like you are already a Researcher here—consider the challenges, the scope, and the methodologies.\n",
    "- Also, we’d like to hear what you would have done differently if given the opportunity, this time with unlimited resources.\n",
    "- You will be presenting to 3-4 researchers who will also be interviewing you one-on-one later in the day.\n",
    "- Be prepared to speak to your choice of method(s), participants, analysis and results, as well as the possibility of entertaining alternative criteria proposed by the audience.\n",
    "- Please provide sufficient methodological detail so that your mastery of the method(s) is obvious.\n",
    "- Your presentation should fit comfortably into a 45-minute timeframe, and should include approximately 3-5 minutes to tell us about yourself and 5 minutes for questions. Note that questions are typically asked as they arise, as opposed to at the end of the presentation\n"
   ]
  },
  {
   "cell_type": "markdown",
   "metadata": {
    "slideshow": {
     "slide_type": "slide"
    }
   },
   "source": [
    "# About Me"
   ]
  },
  {
   "cell_type": "markdown",
   "metadata": {
    "slideshow": {
     "slide_type": "fragment"
    }
   },
   "source": [
    "- PhD Sociology/Demography at UW-Madison"
   ]
  },
  {
   "cell_type": "markdown",
   "metadata": {
    "slideshow": {
     "slide_type": "fragment"
    }
   },
   "source": [
    "- Consultancy within and outside the academia"
   ]
  },
  {
   "cell_type": "markdown",
   "metadata": {
    "slideshow": {
     "slide_type": "fragment"
    }
   },
   "source": [
    "- Data Science projects"
   ]
  },
  {
   "cell_type": "markdown",
   "metadata": {
    "slideshow": {
     "slide_type": "fragment"
    }
   },
   "source": [
    "- [http://sdaza.com/](http://sdaza.com/)"
   ]
  },
  {
   "cell_type": "markdown",
   "metadata": {
    "slideshow": {
     "slide_type": "subslide"
    }
   },
   "source": [
    "# Consultancy\n",
    "\n",
    "<img src=\"img/consultancy.png\" align=\"middle\" style=\"margin:10px 0px 0px 0px\">\n"
   ]
  },
  {
   "cell_type": "markdown",
   "metadata": {
    "slideshow": {
     "slide_type": "subslide"
    }
   },
   "source": [
    "# PhD Journey!\n",
    "\n",
    "<img src=\"img/researchProjects.png\" align=\"middle\" style=\"margin:10px 0px 0px 0px\">\n"
   ]
  },
  {
   "cell_type": "markdown",
   "metadata": {
    "slideshow": {
     "slide_type": "subslide"
    }
   },
   "source": [
    "# Consultancy & PhD\n",
    "\n",
    "- [Applied Population Lab, UW-Madison](https://apl.wisc.edu/)\n",
    "- **acsr**: R package to extract and compute statistics from the ACS and US Census (https://github.com/sdaza/acsr)\n",
    "\n",
    "<img src=\"img/poverty.png\" align=\"middle\" style=\"margin:10px 0px 0px 100px\">\n",
    "\n"
   ]
  },
  {
   "cell_type": "markdown",
   "metadata": {
    "slideshow": {
     "slide_type": "subslide"
    }
   },
   "source": [
    "# Consultancy & PhD\n",
    "\n",
    "- [Center for Applied Social Studies, Catholic University](http://sociologia.uc.cl/desuc/)\n",
    "- Sampling design, weighting, non-response, multiple imputation\n",
    "- **sampler**: R package to design samples adjusting for DEFF (https://github.com/sdaza/sampler)"
   ]
  },
  {
   "cell_type": "markdown",
   "metadata": {
    "slideshow": {
     "slide_type": "subslide"
    }
   },
   "source": [
    "# Data Science\n",
    "\n",
    "- Data Incubator Fellow\n",
    "- [Tracking congress member tweets](https://sdaza-capstone.herokuapp.com/)\n",
    "\n",
    "<img src=\"img/track.png\" align=\"middle\" width=\"600\" height=\"600\" style=\"margin:10px 0px 0px 50px\">"
   ]
  },
  {
   "cell_type": "markdown",
   "metadata": {
    "slideshow": {
     "slide_type": "skip"
    }
   },
   "source": [
    "# Why Facebook?"
   ]
  },
  {
   "cell_type": "markdown",
   "metadata": {
    "slideshow": {
     "slide_type": "skip"
    }
   },
   "source": [
    "- Make positive social impact"
   ]
  },
  {
   "cell_type": "markdown",
   "metadata": {
    "slideshow": {
     "slide_type": "skip"
    }
   },
   "source": [
    "- Impact million of users"
   ]
  },
  {
   "cell_type": "markdown",
   "metadata": {
    "slideshow": {
     "slide_type": "skip"
    }
   },
   "source": [
    "-  Solving social problems from an applied perspective"
   ]
  },
  {
   "cell_type": "markdown",
   "metadata": {
    "slideshow": {
     "slide_type": "skip"
    }
   },
   "source": [
    "- Team culture, diversity"
   ]
  },
  {
   "cell_type": "raw",
   "metadata": {
    "raw_mimetype": "text/html",
    "slideshow": {
     "slide_type": "slide"
    }
   },
   "source": [
    "<image>\n",
    "</section>\n",
    "<section data-background=\"#F27C3A\" data-state=\"no-title-footer\">\n",
    "  <div class=\"divider_h1\">\n",
    "    <h1>Incarceration and Mortality</h1>\n",
    "  </div>\n",
    "</section>\n",
    "</image>"
   ]
  },
  {
   "cell_type": "markdown",
   "metadata": {
    "slideshow": {
     "slide_type": "slide"
    }
   },
   "source": [
    "# American exceptionalism \n",
    "\n",
    "![rates](img/incarceration_rates.jpg)"
   ]
  },
  {
   "cell_type": "markdown",
   "metadata": {
    "slideshow": {
     "slide_type": "subslide"
    }
   },
   "source": [
    "# Expansion of Punishment\n",
    "\n",
    "<img src=\"img/growth_incarceration.png\" align=\"middle\" width=\"500\" height=\"500\" style=\"margin:10px 0px 0px 50px\">\n"
   ]
  },
  {
   "cell_type": "markdown",
   "metadata": {
    "slideshow": {
     "slide_type": "subslide"
    }
   },
   "source": [
    "# US Health Disadvantage\n",
    "\n",
    "<img src=\"img/health_disadvantage.png\" align=\"middle\" width=\"700\" height=\"700\" style=\"margin:10px 0px 0px -10px\">\n"
   ]
  },
  {
   "cell_type": "markdown",
   "metadata": {
    "slideshow": {
     "slide_type": "subslide"
    }
   },
   "source": [
    "# Why?\n",
    "\n",
    "<img src=\"img/incarceration_mortality.png\" align=\"middle\" width=\"800\" height=\"800\" style=\"margin:10px 0px 0px -10px\">"
   ]
  },
  {
   "cell_type": "markdown",
   "metadata": {
    "slideshow": {
     "slide_type": "subslide"
    }
   },
   "source": [
    "# Research Questions"
   ]
  },
  {
   "cell_type": "markdown",
   "metadata": {
    "slideshow": {
     "slide_type": "fragment"
    }
   },
   "source": [
    "- What is the long-term association between imprisonment and mortality in the US?"
   ]
  },
  {
   "cell_type": "markdown",
   "metadata": {
    "slideshow": {
     "slide_type": "fragment"
    }
   },
   "source": [
    "- How much of the gap in mortality between the US and the UK can be attributed to different incarceration regimes?"
   ]
  },
  {
   "cell_type": "raw",
   "metadata": {
    "raw_mimetype": "text/html",
    "slideshow": {
     "slide_type": "slide"
    }
   },
   "source": [
    "<image>\n",
    "</section>\n",
    "<section data-background=\"#F27C3A\" data-state=\"no-title-footer\">\n",
    "  <div class=\"divider_h1\">\n",
    "    <h1>Strategy</h1>\n",
    "  </div>\n",
    "</section>\n",
    "</image>"
   ]
  },
  {
   "cell_type": "markdown",
   "metadata": {
    "slideshow": {
     "slide_type": "slide"
    }
   },
   "source": [
    "# Approach\n",
    "\n",
    "<img src=\"img/strategy.png\" align=\"middle\" width=\"600\" height=\"600\" style=\"margin:10px 0px 0px 50px\">"
   ]
  },
  {
   "cell_type": "markdown",
   "metadata": {
    "slideshow": {
     "slide_type": "subslide"
    }
   },
   "source": [
    "# Data"
   ]
  },
  {
   "cell_type": "markdown",
   "metadata": {
    "slideshow": {
     "slide_type": "fragment"
    }
   },
   "source": [
    "- **Panel Study of Income Dynamic (PSID)**\n",
    "\n",
    "    - Since 1968, the survey has followed the same families\n",
    "    \n",
    "    - The first wave included roughly 5,000 families (18,000 individuals)\n",
    "    \n",
    "    - Recent waves have about 9,000 families (22,000 individuals)"
   ]
  },
  {
   "cell_type": "markdown",
   "metadata": {
    "slideshow": {
     "slide_type": "fragment"
    }
   },
   "source": [
    "-   **<span style=\"color:gray\">National Longitudinal Survey of Youth 1979 (NLSY)</span>**\n",
    "\n",
    "    - <span style=\"color:gray\">12,686 respondents ages 14-22 when first interviewed in 1979</span>"
   ]
  },
  {
   "cell_type": "markdown",
   "metadata": {
    "slideshow": {
     "slide_type": "subslide"
    }
   },
   "source": [
    "# Measures\n",
    "\n",
    "- **Mortality**\n",
    "\n",
    "    - Year of death, National Death Index (NDI) and non-response records\n",
    "    \n",
    "    - 6,457 deaths"
   ]
  },
  {
   "cell_type": "markdown",
   "metadata": {
    "slideshow": {
     "slide_type": "subslide"
    }
   },
   "source": [
    "- **Incarceration**\n",
    "\n",
    "    - Reports of whether a member of a household was incarcerated (n=630)\n",
    "    \n",
    "    - 1995 wave: have ever served time in jail or prison (n=836)"
   ]
  },
  {
   "cell_type": "markdown",
   "metadata": {
    "slideshow": {
     "slide_type": "subslide"
    }
   },
   "source": [
    "- **Incarceration PSID**\n",
    "<img src=\"img/imprisonment_psid.png\" align=\"middle\" width=\"700\" height=\"700\" style=\"margin:10px 0px 0px 0px\">"
   ]
  },
  {
   "cell_type": "markdown",
   "metadata": {
    "slideshow": {
     "slide_type": "subslide"
    }
   },
   "source": [
    "\n",
    "- **Covariates**\n",
    "\n",
    "    - Age, gender, race, education attainment, household income, and health"
   ]
  },
  {
   "cell_type": "markdown",
   "metadata": {
    "slideshow": {
     "slide_type": "subslide"
    }
   },
   "source": [
    "# Statistical Model"
   ]
  },
  {
   "cell_type": "markdown",
   "metadata": {
    "slideshow": {
     "slide_type": "fragment"
    }
   },
   "source": [
    "- **Survival Parametric Models (Gompertz)**\n",
    "    - Validate set up of the data using the underlying US population"
   ]
  },
  {
   "cell_type": "markdown",
   "metadata": {
    "slideshow": {
     "slide_type": "notes"
    }
   },
   "source": [
    "### Survival\n",
    "\n",
    "- The hazard function h(t) gives the instantaneous potential per unit time for the event to occur, given that the individual has survived up to time t\n",
    "- Independent censoring essentially means that within any subgroup of interest, the subjects who are censored at time t should be representa- tive of all the subjects in that subgroup who remained at risk at time t with respect to their survival experience.\n",
    "- Non-informative censoring occurs if the dis- tribution of survival times (T) provides no information about the distribution of censor- ship times (C), and vice versa."
   ]
  },
  {
   "cell_type": "markdown",
   "metadata": {
    "slideshow": {
     "slide_type": "notes"
    }
   },
   "source": []
  },
  {
   "cell_type": "markdown",
   "metadata": {
    "slideshow": {
     "slide_type": "notes"
    }
   },
   "source": [
    "# Gompertz \n",
    "\n",
    "- Gompertz function of hazard (rate) that is an exponentially increasing function of time\n",
    "- The Gompertz model usually fits old age mortality very well\n",
    "- Verify consistency of the adult mortality pattern we find in the data (constant and slope of the Gompertz model) with  US data"
   ]
  },
  {
   "cell_type": "markdown",
   "metadata": {
    "slideshow": {
     "slide_type": "fragment"
    }
   },
   "source": [
    "- **Survival Semi-parametric Models (Cox)**\n",
    "\n",
    "   - Heterogeneity (gamma, family identifier)\n",
    "\n",
    "   - Non-proportional hazard adjustments\n",
    "   \n",
    "   - Marginal Structural Models (MSM)\n",
    "        - Attrition (non-independent censoring)\n",
    "        - Time-varying confounders\n",
    "        "
   ]
  },
  {
   "cell_type": "markdown",
   "metadata": {
    "slideshow": {
     "slide_type": "notes"
    }
   },
   "source": [
    "## Cox\n",
    "\n",
    "- It is a semi-parametric model because even if the regression parameters (the betas) are known, the distribution of the outcome remains unknown. The baseline survival (or hazard) function is not specified in a Cox model.\n",
    "- A key reason why the Cox model is widely popular is that it does not rely on distributional assumptions for the outcome.\n",
    "- Cox proportional hazard model is a *robust* model, so that the results from using the Cox model will closely approximate the results for the correct parametric model\n",
    "- Proportional hazard model where the hazard ratio is assumed constant over time."
   ]
  },
  {
   "cell_type": "markdown",
   "metadata": {
    "slideshow": {
     "slide_type": "notes"
    }
   },
   "source": [
    "### MSM\n",
    "\n",
    "- Time-dependent Cox proportional hazards model: bias\n",
    "\n",
    "1. There exists a time-dependent covariate that is both a risk factor for mortality and also predicts subsequent exposure \n",
    "2. Past exposure history predicts the risk factor\n",
    "3. Covariates satisfying condition 1 are called time- dependent confounders.\n",
    "\n",
    "Past CD4 count is a time- dependent confounder for the effect of zidovudine on survival, because it is a risk factor for mortality and a predictor of subsequent initiation of zidovudine therapy, and past zidovudine history is an independent predictor of subsequent CD4 count. In fact, all standard methods (for example, Cox or Poisson regression) that predict the mortality rate at each time using a summary of zidovudine history up to that time may produce biased estimates of the causal effect of zidovudine whether or not one adjusts for past CD4 count in the analysis."
   ]
  },
  {
   "cell_type": "markdown",
   "metadata": {
    "slideshow": {
     "slide_type": "subslide"
    }
   },
   "source": [
    "# Sensitivity Analysis"
   ]
  },
  {
   "cell_type": "markdown",
   "metadata": {
    "slideshow": {
     "slide_type": "fragment"
    }
   },
   "source": [
    "- Specifications"
   ]
  },
  {
   "cell_type": "markdown",
   "metadata": {
    "slideshow": {
     "slide_type": "fragment"
    }
   },
   "source": [
    "- Missing data\n",
    "    - Last observation carried forward (LOCF) and backwards\n",
    "    - Multiple imputation (100)"
   ]
  },
  {
   "cell_type": "markdown",
   "metadata": {
    "slideshow": {
     "slide_type": "fragment"
    }
   },
   "source": [
    "- Sampling weights"
   ]
  },
  {
   "cell_type": "markdown",
   "metadata": {
    "slideshow": {
     "slide_type": "subslide"
    }
   },
   "source": [
    "# Decomposition"
   ]
  },
  {
   "cell_type": "markdown",
   "metadata": {
    "slideshow": {
     "slide_type": "fragment"
    }
   },
   "source": [
    "How much of the gap in mortality between the US and the UK can be attributable to differential imprisonment experiences?"
   ]
  },
  {
   "cell_type": "markdown",
   "metadata": {
    "slideshow": {
     "slide_type": "fragment"
    }
   },
   "source": [
    "$$ D_{(x)} = MU_{(x)} - mu_{(x)} $$"
   ]
  },
  {
   "cell_type": "markdown",
   "metadata": {
    "slideshow": {
     "slide_type": "fragment"
    }
   },
   "source": [
    "$$ MU_{(x)} = MUo_{(x)} \\times (P_{(x)} \\times (E-1) + 1) =  MUo_{(x)} \\times H_{(x)}$$"
   ]
  },
  {
   "cell_type": "markdown",
   "metadata": {
    "slideshow": {
     "slide_type": "fragment"
    }
   },
   "source": [
    "$$ mu_{(x)} = muo_{(x)} \\times (p_{(x)} \\times(E-1) + 1) = muo_{(x)} \\times h_{(x)}$$"
   ]
  },
  {
   "cell_type": "markdown",
   "metadata": {
    "slideshow": {
     "slide_type": "subslide"
    }
   },
   "source": [
    "# Decomposition"
   ]
  },
  {
   "cell_type": "markdown",
   "metadata": {
    "slideshow": {
     "slide_type": "fragment"
    }
   },
   "source": [
    "$$D_{(x)} = A_{(x)} +B_{(x)}$$"
   ]
  },
  {
   "cell_type": "markdown",
   "metadata": {
    "slideshow": {
     "slide_type": "fragment"
    }
   },
   "source": [
    "- $A_{(x)}$ is the contribution of the population who has not experienced prison "
   ]
  },
  {
   "cell_type": "markdown",
   "metadata": {
    "slideshow": {
     "slide_type": "fragment"
    }
   },
   "source": [
    "- $B_(x)$, is the contribution of the population who has been in prison"
   ]
  },
  {
   "cell_type": "markdown",
   "metadata": {
    "slideshow": {
     "slide_type": "fragment"
    }
   },
   "source": [
    "- $\\frac{B_{(x)}}{D_{x}}$ is the fraction of the difference attributable to imprisonment"
   ]
  },
  {
   "cell_type": "raw",
   "metadata": {
    "raw_mimetype": "text/html",
    "slideshow": {
     "slide_type": "slide"
    }
   },
   "source": [
    "<image>\n",
    "</section>\n",
    "<section data-background=\"#F27C3A\" data-state=\"no-title-footer\">\n",
    "  <div class=\"divider_h1\">\n",
    "    <h1>Results</h1>\n",
    "  </div>\n",
    "</section>\n",
    "</image>"
   ]
  },
  {
   "cell_type": "markdown",
   "metadata": {
    "slideshow": {
     "slide_type": "slide"
    }
   },
   "source": [
    "# Models\n",
    "\n",
    "<img src=\"img/table.png\" align=\"middle\" width=\"630\" height=\"630\"  style=\"margin:-25px 0px 0px 0px\">"
   ]
  },
  {
   "cell_type": "markdown",
   "metadata": {
    "slideshow": {
     "slide_type": "notes"
    }
   },
   "source": [
    "### Interpretation\n",
    "\n",
    "- Relative risk or hazard hartio\n",
    "- exp(0.84) = 2.32\n"
   ]
  },
  {
   "cell_type": "markdown",
   "metadata": {
    "slideshow": {
     "slide_type": "subslide"
    }
   },
   "source": [
    "# Incidence Mortality\n",
    "\n",
    "<img src=\"img/curve_mortality.png\" align=\"middle\" width=\"630\" height=\"63\"  style=\"margin:0px 0px 0px 0px\">"
   ]
  },
  {
   "cell_type": "markdown",
   "metadata": {
    "slideshow": {
     "slide_type": "notes"
    }
   },
   "source": [
    "### Transition probabilities\n",
    "\n",
    "- The probababiility of dying give responded survived until time t and was incarcerated. \n",
    "- Predicted probabilities for male, black, less than high school, average income, not in poor health."
   ]
  },
  {
   "cell_type": "markdown",
   "metadata": {
    "slideshow": {
     "slide_type": "subslide"
    }
   },
   "source": [
    "# Mortality Gap US - UK\n",
    "\n",
    "<img src=\"img/decomp.png\" align=\"middle\" width=\"630\" height=\"630\"  style=\"margin:0px 0px 0px 0px\">"
   ]
  },
  {
   "cell_type": "markdown",
   "metadata": {
    "slideshow": {
     "slide_type": "subslide"
    }
   },
   "source": [
    "# Conclusions\n",
    "\n",
    "- Incarceration is associated with a moderate risk of mortality\n",
    "\n",
    "    - Losses of life expectancy at age 50 of about 4 years or 12% of current U.S. life expectancy    "
   ]
  },
  {
   "cell_type": "markdown",
   "metadata": {
    "slideshow": {
     "slide_type": "fragment"
    }
   },
   "source": [
    "- The fraction of the mortality gap between the US and the UK that can be attributed to imprisonment experience ranges from **2%** to **10%**"
   ]
  },
  {
   "cell_type": "raw",
   "metadata": {
    "raw_mimetype": "text/html",
    "slideshow": {
     "slide_type": "slide"
    }
   },
   "source": [
    "<image>\n",
    "</section>\n",
    "<section data-background=\"#F27C3A\" data-state=\"no-title-footer\">\n",
    "  <div class=\"divider_h1\">\n",
    "    <h1>Limitations</h1>\n",
    "  </div>\n",
    "</section>\n",
    "</image>"
   ]
  },
  {
   "cell_type": "markdown",
   "metadata": {
    "slideshow": {
     "slide_type": "slide"
    }
   },
   "source": [
    "# Limitations"
   ]
  },
  {
   "cell_type": "markdown",
   "metadata": {
    "slideshow": {
     "slide_type": "fragment"
    }
   },
   "source": [
    "- Heterogeneity / Interactions / Sample size"
   ]
  },
  {
   "cell_type": "markdown",
   "metadata": {
    "slideshow": {
     "slide_type": "fragment"
    }
   },
   "source": [
    "- Causality"
   ]
  },
  {
   "cell_type": "markdown",
   "metadata": {
    "slideshow": {
     "slide_type": "fragment"
    }
   },
   "source": [
    "- Bayesian approach\n",
    "\n",
    "    - Previous knowledge (priors)\n",
    "    \n",
    "    - Model Uncertainty: BMA or stacking"
   ]
  },
  {
   "cell_type": "markdown",
   "metadata": {
    "slideshow": {
     "slide_type": "subslide"
    }
   },
   "source": [
    "# Limitations"
   ]
  },
  {
   "cell_type": "markdown",
   "metadata": {
    "slideshow": {
     "slide_type": "fragment"
    }
   },
   "source": [
    "- Measurement of incarceration\n",
    "\n",
    "    - Underestimation?\n",
    "    \n",
    "    - Clear treatment\n"
   ]
  },
  {
   "cell_type": "markdown",
   "metadata": {
    "slideshow": {
     "slide_type": "fragment"
    }
   },
   "source": [
    "-  The UK better data"
   ]
  },
  {
   "cell_type": "markdown",
   "metadata": {
    "slideshow": {
     "slide_type": "skip"
    }
   },
   "source": [
    "### Q&A Slide"
   ]
  },
  {
   "cell_type": "raw",
   "metadata": {
    "slideshow": {
     "slide_type": "slide"
    }
   },
   "source": [
    "<image>\n",
    "</section>\n",
    "<section data-background=\"#0093C9\" data-state=\"no-title-footer\">\n",
    "  <div class=\"divider_h1\">\n",
    "    <h1>Thank you!</h1>\n",
    "    <br>\n",
    "    <br>\n",
    "    <a style=\"color:orange\"href=\"http://sdaza.com/presentations/daza.slides\">\n",
    "    http://sdaza.com/presentations/daza.slides</a>\n",
    "  </div>\n",
    "</section>\n",
    "</image>"
   ]
  }
 ],
 "metadata": {
  "anaconda-cloud": {},
  "celltoolbar": "Slideshow",
  "kernelspec": {
   "display_name": "Python [default]",
   "language": "python",
   "name": "python3"
  },
  "language_info": {
   "codemirror_mode": {
    "name": "ipython",
    "version": 3
   },
   "file_extension": ".py",
   "mimetype": "text/x-python",
   "name": "python",
   "nbconvert_exporter": "python",
   "pygments_lexer": "ipython3",
   "version": "3.6.1"
  },
  "varInspector": {
   "cols": {
    "lenName": 16,
    "lenType": 16,
    "lenVar": 40
   },
   "kernels_config": {
    "python": {
     "delete_cmd_postfix": "",
     "delete_cmd_prefix": "del ",
     "library": "var_list.py",
     "varRefreshCmd": "print(var_dic_list())"
    },
    "r": {
     "delete_cmd_postfix": ") ",
     "delete_cmd_prefix": "rm(",
     "library": "var_list.r",
     "varRefreshCmd": "cat(var_dic_list()) "
    }
   },
   "types_to_exclude": [
    "module",
    "function",
    "builtin_function_or_method",
    "instance",
    "_Feature"
   ],
   "window_display": false
  },
  "widgets": {
   "state": {},
   "version": "1.1.2"
  }
 },
 "nbformat": 4,
 "nbformat_minor": 2
}
