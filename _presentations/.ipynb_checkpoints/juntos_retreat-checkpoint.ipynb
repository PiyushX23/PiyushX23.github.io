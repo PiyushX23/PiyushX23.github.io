{
 "cells": [
  {
   "cell_type": "code",
   "execution_count": 1,
   "metadata": {
    "collapsed": true,
    "slideshow": {
     "slide_type": "skip"
    }
   },
   "outputs": [],
   "source": [
    "# Add all necessary imports here\n",
    "import matplotlib.pyplot as plt\n",
    "%matplotlib inline\n",
    "plt.style.reload_library()\n",
    "plt.style.use(\"ggplot\")"
   ]
  },
  {
   "cell_type": "markdown",
   "metadata": {
    "slideshow": {
     "slide_type": "skip"
    }
   },
   "source": [
    "### Cover Slide 1"
   ]
  },
  {
   "cell_type": "raw",
   "metadata": {
    "slideshow": {
     "slide_type": "slide"
    }
   },
   "source": [
    "<image>\n",
    "<section data-background=\"img/incarceration.jpeg\" data-state=\"img-transparent no-title-footer\">\n",
    "<div class=\"intro-body\">\n",
    "<div class=\"intro_h1\"><h1>Incarceration and Mortality</h1</div>\n",
    "<h3>Sebastian Daza</h3>\n",
    "<p>&nbsp;</p>\n",
    "<p>&nbsp;</p>\n",
    "</div>\n",
    "</section>\n",
    "</image>"
   ]
  },
  {
   "cell_type": "markdown",
   "metadata": {
    "slideshow": {
     "slide_type": "skip"
    }
   },
   "source": [
    "### Cover Slide 2"
   ]
  },
  {
   "cell_type": "raw",
   "metadata": {
    "slideshow": {
     "slide_type": "skip"
    }
   },
   "source": [
    "<image>\n",
    "<section data-background=\"img/incarceration.jpeg\" data-state=\"img-transparent no-title-footer\">\n",
    "<div class=\"intro-body\">\n",
    "<div class=\"intro_h1\"><h1>Incarceration and Mortality</h1</div>\n",
    "<h3>Sebastian Daza</h3>\n",
    "<p>&nbsp;</p>\n",
    "<p>&nbsp;</p>\n",
    "</div>\n",
    "</section>\n",
    "</image>"
   ]
  },
  {
   "cell_type": "raw",
   "metadata": {
    "raw_mimetype": "text/html",
    "slideshow": {
     "slide_type": "skip"
    }
   },
   "source": [
    "<image>\n",
    "</section>\n",
    "<section data-background=\"#F27C3A\" data-state=\"no-title-footer\">\n",
    "  <div class=\"divider_h1\">\n",
    "    <h1>Incarceration and Mortality</h1>\n",
    "  </div>\n",
    "</section>\n",
    "</image>"
   ]
  },
  {
   "cell_type": "markdown",
   "metadata": {
    "slideshow": {
     "slide_type": "slide"
    }
   },
   "source": [
    "# American exceptionalism \n",
    "\n",
    "![rates](img/incarceration_rates.jpg)"
   ]
  },
  {
   "cell_type": "markdown",
   "metadata": {
    "slideshow": {
     "slide_type": "subslide"
    }
   },
   "source": [
    "# Expansion of Punishment\n",
    "\n",
    "<img src=\"img/growth_incarceration.png\" align=\"middle\" width=\"500\" height=\"500\" style=\"margin:10px 0px 0px 50px\">\n",
    "\n",
    "- Currently, about 2,000,000 people are locked up in the US"
   ]
  },
  {
   "cell_type": "markdown",
   "metadata": {
    "slideshow": {
     "slide_type": "subslide"
    }
   },
   "source": [
    "# Consequences\n",
    "\n",
    "<img src=\"img/wordcloud.jpg\" align=\"middle\" width=\"500\" height=\"500\" style=\"margin:10px 0px 0px 50px\">\n"
   ]
  },
  {
   "cell_type": "markdown",
   "metadata": {
    "slideshow": {
     "slide_type": "subslide"
    }
   },
   "source": [
    "# US Health Disadvantage\n",
    "\n",
    "<img src=\"img/health_disadvantage.png\" align=\"middle\" width=\"700\" height=\"700\" style=\"margin:10px 0px 0px -10px\">\n"
   ]
  },
  {
   "cell_type": "markdown",
   "metadata": {
    "slideshow": {
     "slide_type": "subslide"
    }
   },
   "source": [
    "# Why health might be affected?\n",
    "\n",
    "<img src=\"img/incarceration_mortality.png\" align=\"middle\" width=\"800\" height=\"800\" style=\"margin:10px 0px 0px -10px\">"
   ]
  },
  {
   "cell_type": "markdown",
   "metadata": {
    "slideshow": {
     "slide_type": "subslide"
    }
   },
   "source": [
    "# Research Questions"
   ]
  },
  {
   "cell_type": "markdown",
   "metadata": {
    "slideshow": {
     "slide_type": "fragment"
    }
   },
   "source": [
    "- What is the long-term association between imprisonment and mortality in the US?"
   ]
  },
  {
   "cell_type": "markdown",
   "metadata": {
    "slideshow": {
     "slide_type": "fragment"
    }
   },
   "source": [
    "- How much of the gap in mortality between the US and the UK can be attributed to different incarceration regimes?"
   ]
  },
  {
   "cell_type": "raw",
   "metadata": {
    "raw_mimetype": "text/html",
    "slideshow": {
     "slide_type": "slide"
    }
   },
   "source": [
    "<image>\n",
    "</section>\n",
    "<section data-background=\"#F27C3A\" data-state=\"no-title-footer\">\n",
    "  <div class=\"divider_h1\">\n",
    "    <h1>Methods</h1>\n",
    "  </div>\n",
    "</section>\n",
    "</image>"
   ]
  },
  {
   "cell_type": "markdown",
   "metadata": {
    "slideshow": {
     "slide_type": "slide"
    }
   },
   "source": [
    "# Approach\n",
    "\n",
    "<img src=\"img/strategy.png\" align=\"middle\" width=\"600\" height=\"600\" style=\"margin:10px 0px 0px 50px\">"
   ]
  },
  {
   "cell_type": "markdown",
   "metadata": {
    "slideshow": {
     "slide_type": "subslide"
    }
   },
   "source": [
    "# Data"
   ]
  },
  {
   "cell_type": "markdown",
   "metadata": {
    "slideshow": {
     "slide_type": "fragment"
    }
   },
   "source": [
    "- **Panel Study of Income Dynamic (PSID)**\n",
    "\n",
    "    - Since 1968, the survey has followed the same families\n",
    "    \n",
    "    - The first wave included roughly 5,000 families (18,000 individuals)\n",
    "    \n",
    "    - Recent waves have about 9,000 families (22,000 individuals)"
   ]
  },
  {
   "cell_type": "markdown",
   "metadata": {
    "slideshow": {
     "slide_type": "skip"
    }
   },
   "source": [
    "-   **<span style=\"color:gray\">National Longitudinal Survey of Youth 1979 (NLSY)</span>**\n",
    "\n",
    "    - <span style=\"color:gray\">12,686 respondents ages 14-22 when first interviewed in 1979</span>\n",
    "    "
   ]
  },
  {
   "cell_type": "markdown",
   "metadata": {
    "slideshow": {
     "slide_type": "fragment"
    }
   },
   "source": [
    "- **Covariates**\n",
    "\n",
    "    - Age, gender, race, education attainment, household income, and health"
   ]
  },
  {
   "cell_type": "markdown",
   "metadata": {
    "slideshow": {
     "slide_type": "skip"
    }
   },
   "source": [
    "# Measures\n",
    "\n",
    "- **Mortality**\n",
    "\n",
    "    - Year of death, National Death Index (NDI) and non-response records\n",
    "    \n",
    "    - 6,457 deaths"
   ]
  },
  {
   "cell_type": "markdown",
   "metadata": {
    "slideshow": {
     "slide_type": "skip"
    }
   },
   "source": [
    "- **Incarceration**\n",
    "\n",
    "    - Reports of whether a member of a household was incarcerated (n=630)\n",
    "    \n",
    "    - 1995 wave: have ever served time in jail or prison (n=836)"
   ]
  },
  {
   "cell_type": "markdown",
   "metadata": {
    "slideshow": {
     "slide_type": "skip"
    }
   },
   "source": [
    "- **Incarceration PSID**\n",
    "<img src=\"img/imprisonment_psid.png\" align=\"middle\" width=\"700\" height=\"700\" style=\"margin:10px 0px 0px 0px\">"
   ]
  },
  {
   "cell_type": "markdown",
   "metadata": {
    "slideshow": {
     "slide_type": "subslide"
    }
   },
   "source": [
    "# Methods"
   ]
  },
  {
   "cell_type": "markdown",
   "metadata": {
    "slideshow": {
     "slide_type": "fragment"
    }
   },
   "source": [
    "- **Survival Parametric Models (Gompertz)**\n",
    "    - Validate set up of the data using the underlying US population\n",
    "    \n",
    "- **Survival Semi-parametric Models (Cox)**\n",
    "\n",
    "- **Sensitivity Analysis**\n",
    "\n",
    "- **Decomposition**"
   ]
  },
  {
   "cell_type": "markdown",
   "metadata": {
    "slideshow": {
     "slide_type": "skip"
    }
   },
   "source": [
    "### Survival\n",
    "\n",
    "- The hazard function h(t) gives the instantaneous potential per unit time for the event to occur, given that the individual has survived up to time t\n",
    "- Independent censoring essentially means that within any subgroup of interest, the subjects who are censored at time t should be representa- tive of all the subjects in that subgroup who remained at risk at time t with respect to their survival experience.\n",
    "- Non-informative censoring occurs if the dis- tribution of survival times (T) provides no information about the distribution of censor- ship times (C), and vice versa."
   ]
  },
  {
   "cell_type": "markdown",
   "metadata": {
    "slideshow": {
     "slide_type": "skip"
    }
   },
   "source": [
    "# Gompertz \n",
    "\n",
    "- Gompertz function of hazard (rate) that is an exponentially increasing function of time\n",
    "- The Gompertz model usually fits old age mortality very well\n",
    "- Verify consistency of the adult mortality pattern we find in the data (constant and slope of the Gompertz model) with  US data"
   ]
  },
  {
   "cell_type": "markdown",
   "metadata": {
    "slideshow": {
     "slide_type": "notes"
    }
   },
   "source": [
    "## Cox\n",
    "\n",
    "- It is a semi-parametric model because even if the regression parameters (the betas) are known, the distribution of the outcome remains unknown. The baseline survival (or hazard) function is not specified in a Cox model.\n",
    "- A key reason why the Cox model is widely popular is that it does not rely on distributional assumptions for the outcome.\n",
    "- Cox proportional hazard model is a *robust* model, so that the results from using the Cox model will closely approximate the results for the correct parametric model\n",
    "- Proportional hazard model where the hazard ratio is assumed constant over time."
   ]
  },
  {
   "cell_type": "markdown",
   "metadata": {
    "slideshow": {
     "slide_type": "notes"
    }
   },
   "source": [
    "### MSM\n",
    "\n",
    "- Time-dependent Cox proportional hazards model: bias\n",
    "\n",
    "1. There exists a time-dependent covariate that is both a risk factor for mortality and also predicts subsequent exposure \n",
    "2. Past exposure history predicts the risk factor\n",
    "3. Covariates satisfying condition 1 are called time- dependent confounders.\n",
    "\n",
    "Past CD4 count is a time- dependent confounder for the effect of zidovudine on survival, because it is a risk factor for mortality and a predictor of subsequent initiation of zidovudine therapy, and past zidovudine history is an independent predictor of subsequent CD4 count. In fact, all standard methods (for example, Cox or Poisson regression) that predict the mortality rate at each time using a summary of zidovudine history up to that time may produce biased estimates of the causal effect of zidovudine whether or not one adjusts for past CD4 count in the analysis."
   ]
  },
  {
   "cell_type": "markdown",
   "metadata": {
    "slideshow": {
     "slide_type": "skip"
    }
   },
   "source": [
    "# Sensitivity Analysis"
   ]
  },
  {
   "cell_type": "markdown",
   "metadata": {
    "slideshow": {
     "slide_type": "skip"
    }
   },
   "source": [
    "- Specifications"
   ]
  },
  {
   "cell_type": "markdown",
   "metadata": {
    "slideshow": {
     "slide_type": "skip"
    }
   },
   "source": [
    "- Missing data\n",
    "    - Last observation carried forward (LOCF) and backwards\n",
    "    - Multiple imputation (100)"
   ]
  },
  {
   "cell_type": "markdown",
   "metadata": {
    "slideshow": {
     "slide_type": "skip"
    }
   },
   "source": [
    "- Sampling weights"
   ]
  },
  {
   "cell_type": "markdown",
   "metadata": {
    "slideshow": {
     "slide_type": "skip"
    }
   },
   "source": [
    "# Decomposition"
   ]
  },
  {
   "cell_type": "markdown",
   "metadata": {
    "slideshow": {
     "slide_type": "skip"
    }
   },
   "source": [
    "How much of the gap in mortality between the US and the UK can be attributable to differential imprisonment experiences?"
   ]
  },
  {
   "cell_type": "markdown",
   "metadata": {
    "slideshow": {
     "slide_type": "skip"
    }
   },
   "source": [
    "$$ D_{(x)} = MU_{(x)} - mu_{(x)} $$"
   ]
  },
  {
   "cell_type": "markdown",
   "metadata": {
    "slideshow": {
     "slide_type": "skip"
    }
   },
   "source": [
    "$$ MU_{(x)} = MUo_{(x)} \\times (P_{(x)} \\times (E-1) + 1) =  MUo_{(x)} \\times H_{(x)}$$"
   ]
  },
  {
   "cell_type": "markdown",
   "metadata": {
    "slideshow": {
     "slide_type": "skip"
    }
   },
   "source": [
    "$$ mu_{(x)} = muo_{(x)} \\times (p_{(x)} \\times(E-1) + 1) = muo_{(x)} \\times h_{(x)}$$"
   ]
  },
  {
   "cell_type": "markdown",
   "metadata": {
    "slideshow": {
     "slide_type": "skip"
    }
   },
   "source": [
    "# Decomposition"
   ]
  },
  {
   "cell_type": "markdown",
   "metadata": {
    "slideshow": {
     "slide_type": "skip"
    }
   },
   "source": [
    "$$D_{(x)} = A_{(x)} +B_{(x)}$$"
   ]
  },
  {
   "cell_type": "markdown",
   "metadata": {
    "slideshow": {
     "slide_type": "skip"
    }
   },
   "source": [
    "- $A_{(x)}$ is the contribution of the population who has not experienced prison "
   ]
  },
  {
   "cell_type": "markdown",
   "metadata": {
    "slideshow": {
     "slide_type": "skip"
    }
   },
   "source": [
    "- $B_(x)$, is the contribution of the population who has been in prison"
   ]
  },
  {
   "cell_type": "markdown",
   "metadata": {
    "slideshow": {
     "slide_type": "skip"
    }
   },
   "source": [
    "- $\\frac{B_{(x)}}{D_{x}}$ is the fraction of the difference attributable to imprisonment"
   ]
  },
  {
   "cell_type": "raw",
   "metadata": {
    "raw_mimetype": "text/html",
    "slideshow": {
     "slide_type": "slide"
    }
   },
   "source": [
    "<image>\n",
    "</section>\n",
    "<section data-background=\"#F27C3A\" data-state=\"no-title-footer\">\n",
    "  <div class=\"divider_h1\">\n",
    "    <h1>Results</h1>\n",
    "  </div>\n",
    "</section>\n",
    "</image>"
   ]
  },
  {
   "cell_type": "markdown",
   "metadata": {
    "slideshow": {
     "slide_type": "skip"
    }
   },
   "source": [
    "# Results\n",
    "\n",
    "<img src=\"img/table.png\" align=\"middle\" width=\"630\" height=\"630\"  style=\"margin:-25px 0px 0px 0px\">"
   ]
  },
  {
   "cell_type": "markdown",
   "metadata": {
    "slideshow": {
     "slide_type": "notes"
    }
   },
   "source": [
    "### Interpretation\n",
    "\n",
    "- Relative risk or hazard hartio\n",
    "- exp(0.84) = 2.32\n"
   ]
  },
  {
   "cell_type": "markdown",
   "metadata": {
    "slideshow": {
     "slide_type": "subslide"
    }
   },
   "source": [
    "# Incidence Mortality\n",
    "\n",
    "<img src=\"img/curve_mortality.png\" align=\"middle\" width=\"630\" height=\"63\"  style=\"margin:0px 0px 0px 0px\">"
   ]
  },
  {
   "cell_type": "markdown",
   "metadata": {
    "slideshow": {
     "slide_type": "notes"
    }
   },
   "source": [
    "### Transition probabilities\n",
    "\n",
    "- The probababiility of dying give responded survived until time t and was incarcerated. \n",
    "- Predicted probabilities for male, black, less than high school, average income, not in poor health."
   ]
  },
  {
   "cell_type": "markdown",
   "metadata": {
    "slideshow": {
     "slide_type": "subslide"
    }
   },
   "source": [
    "# Mortality Gap US - UK\n",
    "\n",
    "<img src=\"img/decomp.png\" align=\"middle\" width=\"630\" height=\"630\"  style=\"margin:0px 0px 0px 0px\">"
   ]
  },
  {
   "cell_type": "raw",
   "metadata": {
    "raw_mimetype": "text/html",
    "slideshow": {
     "slide_type": "slide"
    }
   },
   "source": [
    "<image>\n",
    "</section>\n",
    "<section data-background=\"#F27C3A\" data-state=\"no-title-footer\">\n",
    "  <div class=\"divider_h1\">\n",
    "    <h1>Conclusions</h1>\n",
    "  </div>\n",
    "</section>\n",
    "</image>"
   ]
  },
  {
   "cell_type": "markdown",
   "metadata": {
    "slideshow": {
     "slide_type": "subslide"
    }
   },
   "source": [
    "# Conclusions"
   ]
  },
  {
   "cell_type": "markdown",
   "metadata": {
    "slideshow": {
     "slide_type": "fragment"
    }
   },
   "source": [
    "- Incarceration is associated with a moderate risk of mortality\n",
    "\n",
    "    - Losses of life expectancy at age 50 of about 4 years or 12% of current U.S. life expectancy    "
   ]
  },
  {
   "cell_type": "markdown",
   "metadata": {
    "slideshow": {
     "slide_type": "fragment"
    }
   },
   "source": [
    "- The fraction of the mortality gap between the US and the UK that can be attributed to imprisonment experience ranges from **2%** to **10%**"
   ]
  },
  {
   "cell_type": "markdown",
   "metadata": {
    "slideshow": {
     "slide_type": "subslide"
    }
   },
   "source": [
    "# Broader Thoughts"
   ]
  },
  {
   "cell_type": "markdown",
   "metadata": {
    "slideshow": {
     "slide_type": "fragment"
    }
   },
   "source": [
    "- Unintended consequences of incarceration\n",
    "    - Integration of exclusion\n",
    "- Cost vs Benefit\n",
    "    - Reduction of crime?\n",
    "    - Negative effects\n",
    "- Human rights"
   ]
  },
  {
   "cell_type": "markdown",
   "metadata": {
    "slideshow": {
     "slide_type": "skip"
    }
   },
   "source": [
    "# Limitations"
   ]
  },
  {
   "cell_type": "markdown",
   "metadata": {
    "slideshow": {
     "slide_type": "skip"
    }
   },
   "source": [
    "- Heterogeneity / Interactions / Sample size"
   ]
  },
  {
   "cell_type": "markdown",
   "metadata": {
    "slideshow": {
     "slide_type": "skip"
    }
   },
   "source": [
    "- Causality"
   ]
  },
  {
   "cell_type": "markdown",
   "metadata": {
    "slideshow": {
     "slide_type": "skip"
    }
   },
   "source": [
    "- Bayesian approach\n",
    "\n",
    "    - Previous knowledge (priors)\n",
    "    \n",
    "    - Model Uncertainty: BMA or stacking"
   ]
  },
  {
   "cell_type": "markdown",
   "metadata": {
    "slideshow": {
     "slide_type": "skip"
    }
   },
   "source": [
    "# Limitations"
   ]
  },
  {
   "cell_type": "markdown",
   "metadata": {
    "slideshow": {
     "slide_type": "skip"
    }
   },
   "source": [
    "- Measurement of incarceration\n",
    "\n",
    "    - Underestimation?\n",
    "    \n",
    "    - Clear treatment\n"
   ]
  },
  {
   "cell_type": "markdown",
   "metadata": {
    "slideshow": {
     "slide_type": "skip"
    }
   },
   "source": [
    "-  The UK better data"
   ]
  },
  {
   "cell_type": "markdown",
   "metadata": {
    "slideshow": {
     "slide_type": "skip"
    }
   },
   "source": [
    "### Q&A Slide"
   ]
  },
  {
   "cell_type": "raw",
   "metadata": {
    "slideshow": {
     "slide_type": "slide"
    }
   },
   "source": [
    "<image>\n",
    "</section>\n",
    "<section data-background=\"#0093C9\" data-state=\"no-title-footer\">\n",
    "  <div class=\"divider_h1\">\n",
    "    <h1>Thank you!</h1>\n",
    "    <br>\n",
    "    <br>\n",
    "    <a style=\"color:orange\"href=\"http://sdaza.com/presentations/juntos_retreat.slides\">\n",
    "    http://sdaza.com/presentations/juntos_retreat.slides</a>\n",
    "    <br>\n",
    "      <a style=\"color:orange\"href=\"http://sdaza.com/presentations/juntos_retreat.slides\">\n",
    "    http://sdaza.com/presentations/daza.slides</a>\n",
    "  </div>\n",
    "</section>\n",
    "</image>"
   ]
  }
 ],
 "metadata": {
  "anaconda-cloud": {},
  "celltoolbar": "Slideshow",
  "kernelspec": {
   "display_name": "Python 3",
   "language": "python",
   "name": "python3"
  },
  "language_info": {
   "codemirror_mode": {
    "name": "ipython",
    "version": 3
   },
   "file_extension": ".py",
   "mimetype": "text/x-python",
   "name": "python",
   "nbconvert_exporter": "python",
   "pygments_lexer": "ipython3",
   "version": "3.6.4"
  },
  "varInspector": {
   "cols": {
    "lenName": 16,
    "lenType": 16,
    "lenVar": 40
   },
   "kernels_config": {
    "python": {
     "delete_cmd_postfix": "",
     "delete_cmd_prefix": "del ",
     "library": "var_list.py",
     "varRefreshCmd": "print(var_dic_list())"
    },
    "r": {
     "delete_cmd_postfix": ") ",
     "delete_cmd_prefix": "rm(",
     "library": "var_list.r",
     "varRefreshCmd": "cat(var_dic_list()) "
    }
   },
   "types_to_exclude": [
    "module",
    "function",
    "builtin_function_or_method",
    "instance",
    "_Feature"
   ],
   "window_display": false
  },
  "widgets": {
   "state": {},
   "version": "1.1.2"
  }
 },
 "nbformat": 4,
 "nbformat_minor": 2
}
